{
 "cells": [
  {
   "cell_type": "code",
   "execution_count": 5,
   "id": "1c0ee86b-b8d1-4578-86bf-30d116042c3f",
   "metadata": {},
   "outputs": [
    {
     "name": "stdout",
     "output_type": "stream",
     "text": [
      "1. Add new goal\n",
      "2. View all goals\n",
      "3. View goals by category\n",
      "4. Update goal progress\n",
      "5. Add reminder to goal\n",
      "6. Exit\n"
     ]
    },
    {
     "name": "stdin",
     "output_type": "stream",
     "text": [
      "Choose an option:  1\n"
     ]
    },
    {
     "name": "stdout",
     "output_type": "stream",
     "text": [
      "Choose a category: 1. Personal, 2. Financial, 3. Health\n"
     ]
    },
    {
     "name": "stdin",
     "output_type": "stream",
     "text": [
      "Enter choice:  2\n",
      "Extreme Goal:  make 7000AUD\n",
      "Your Challenge:  Maximize the shifts and Youtube\n",
      "Challenge Period:  2 months\n",
      "Enter a deadline (YYYY-MM-DD) or leave blank:  2024-11-10\n"
     ]
    },
    {
     "name": "stdout",
     "output_type": "stream",
     "text": [
      "1. Add new goal\n",
      "2. View all goals\n",
      "3. View goals by category\n",
      "4. Update goal progress\n",
      "5. Add reminder to goal\n",
      "6. Exit\n"
     ]
    },
    {
     "name": "stdin",
     "output_type": "stream",
     "text": [
      "Choose an option:  3\n"
     ]
    },
    {
     "name": "stdout",
     "output_type": "stream",
     "text": [
      "Choose a category to view: 1. Personal, 2. Financial, 3. Health\n"
     ]
    },
    {
     "name": "stdin",
     "output_type": "stream",
     "text": [
      "Enter category choice:  2\n"
     ]
    },
    {
     "name": "stdout",
     "output_type": "stream",
     "text": [
      "Viewing Financial goals:\n",
      "make 7000AUD (2 months): 0% completed\n",
      "Note: Maximize the shifts and Youtube\n",
      "Quote of the Day: \n",
      "\n",
      "1. Add new goal\n",
      "2. View all goals\n",
      "3. View goals by category\n",
      "4. Update goal progress\n",
      "5. Add reminder to goal\n",
      "6. Exit\n"
     ]
    },
    {
     "name": "stdin",
     "output_type": "stream",
     "text": [
      "Choose an option:  6\n"
     ]
    },
    {
     "name": "stdout",
     "output_type": "stream",
     "text": [
      "Goals saved! Exiting the program.\n"
     ]
    }
   ],
   "source": [
    "import pickle\n",
    "from datetime import datetime  # Importing datetime for handling dates\n",
    "\n",
    "class Goal:\n",
    "    def __init__(self, name, description, timeframe, deadline=None):\n",
    "        self.name = name  # The name of the goal\n",
    "        self.description = description  # A description or note about the goal\n",
    "        self.timeframe = timeframe  # Timeframe: long-term, 1-year, monthly, etc.\n",
    "        self.progress = 0  # Track progress (default is 0%)\n",
    "        self.quote = \"\"\n",
    "        self.deadline = deadline  # New deadline attribute\n",
    "\n",
    "    def update_progress(self, progress):\n",
    "        self.progress = progress  # Update the goal progress\n",
    "\n",
    "    def add_quote(self, quote):\n",
    "        self.quote = quote\n",
    "\n",
    "    def set_deadline(self, deadline_str):\n",
    "        # Convert string to datetime object\n",
    "        self.deadline = datetime.strptime(deadline_str, '%Y-%m-%d')\n",
    "\n",
    "    def get_days_left(self):\n",
    "        if self.deadline:\n",
    "            today = datetime.today()\n",
    "            delta = self.deadline - today\n",
    "            return delta.days  # Return the number of days remaining\n",
    "        return None  # Return None if no deadline is set\n",
    "\n",
    "    def __str__(self):\n",
    "        deadline_info = f\"Deadline: {self.deadline.strftime('%Y-%m-%d')}\" if self.deadline else \"No deadline set\"\n",
    "        days_left = f\"Days left: {self.get_days_left()}\" if self.get_days_left() is not None else \"\"\n",
    "        return (f\"{self.name} ({self.timeframe}): {self.progress}% completed\\n\"\n",
    "        f\"Note: {self.description}\\n\"\n",
    "        f\"Quote of the Day: {self.quote}\\n\")\n",
    "\n",
    "class PersonalGoal(Goal):\n",
    "    def __init__(self, name, description, timeframe):\n",
    "        super().__init__(name, description, timeframe)  # Inherit from Goal\n",
    "        self.category = \"Personal\"  # Add a category for this goal\n",
    "\n",
    "class FinancialGoal(Goal):\n",
    "    def __init__(self, name, description, timeframe):\n",
    "        super().__init__(name, description, timeframe)\n",
    "        self.category = \"Financial\"\n",
    "\n",
    "class HealthGoal(Goal):\n",
    "    def __init__(self, name, description, timeframe):\n",
    "        super().__init__(name, description, timeframe)\n",
    "        self.category = \"Health\"\n",
    "\n",
    "def save_goals(goals, filename=\"goals.pkl\"):\n",
    "    with open(filename, 'wb') as file:\n",
    "        pickle.dump(goals, file)\n",
    "\n",
    "def load_goals(filename=\"goals.pkl\"):\n",
    "    try:\n",
    "        with open(filename, 'rb') as file:\n",
    "            return pickle.load(file)\n",
    "    except FileNotFoundError:\n",
    "        # If the file is not found, return an empty list (no goals saved yet)\n",
    "        return []\n",
    "\n",
    "def add_goal():\n",
    "    print(\"Choose a category: 1. Personal, 2. Financial, 3. Health\")\n",
    "    category_choice = input(\"Enter choice: \")\n",
    "    \n",
    "    name = input(\"Extreme Goal: \")\n",
    "    description = input(\"Your Challenge: \")\n",
    "    timeframe = input(\"Challenge Period: \")\n",
    "    deadline_str = input(\"Enter a deadline (YYYY-MM-DD) or leave blank: \")\n",
    "\n",
    "    if category_choice == '1':\n",
    "        return PersonalGoal(name, description, timeframe)\n",
    "    elif category_choice == '2':\n",
    "        return FinancialGoal(name, description, timeframe)\n",
    "    elif category_choice == '3':\n",
    "        return HealthGoal(name, description, timeframe)\n",
    "    else:\n",
    "        print(\"Invalid category! Creating a general goal.\")\n",
    "        goal = Goal(name, description, timeframe)\n",
    "\n",
    "    if deadline_str:\n",
    "        goal.set_deadline(deadline_str)\n",
    "\n",
    "    return goal\n",
    "\n",
    "def show_menu():\n",
    "    print(\"1. Add new goal\")\n",
    "    print(\"2. View all goals\")\n",
    "    print(\"3. View goals by category\")  # New option to view by category\n",
    "    print(\"4. Update goal progress\")\n",
    "    print(\"5. Add reminder to goal\")\n",
    "    print(\"6. Exit\")\n",
    "\n",
    "\n",
    "def view_goals_by_category(goals):\n",
    "    print(\"Choose a category to view: 1. Personal, 2. Financial, 3. Health\")\n",
    "    category_choice = input(\"Enter category choice: \")\n",
    "\n",
    "    category_map = {\n",
    "        '1': \"Personal\",\n",
    "        '2': \"Financial\",\n",
    "        '3': \"Health\"\n",
    "    }\n",
    "\n",
    "    if category_choice in category_map:\n",
    "        category = category_map[category_choice]\n",
    "        print(f\"Viewing {category} goals:\")\n",
    "        for goal in goals:\n",
    "            if hasattr(goal, 'category') and goal.category == category:\n",
    "                print(goal)\n",
    "    else:\n",
    "        print(\"Invalid category choice.\")\n",
    "\n",
    "def main():\n",
    "    # Load goals from file at the start\n",
    "    goals = load_goals()\n",
    "\n",
    "    while True:\n",
    "        show_menu()\n",
    "        choice = input(\"Choose an option: \")\n",
    "\n",
    "        if choice == '1':\n",
    "            goal = add_goal()\n",
    "            goals.append(goal)\n",
    "        elif choice == '2':\n",
    "            for goal in goals:\n",
    "                print(goal)\n",
    "        elif choice == '3':  # View goals by category\n",
    "            view_goals_by_category(goals)\n",
    "        elif choice == '4':\n",
    "            for i, goal in enumerate(goals):\n",
    "                print(f\"{i+1}. {goal.name} ({goal.timeframe})\")\n",
    "            index = int(input(\"Choose a goal to update: \")) - 1\n",
    "            progress = int(input(\"Enter the new progress percentage: \"))\n",
    "            goals[index].update_progress(progress)\n",
    "        elif choice == '5':  # New option to add a reminder\n",
    "            for i, goal in enumerate(goals):\n",
    "                print(f\"{i+1}. {goal.name} ({goal.timeframe})\")\n",
    "            index = int(input(\"Choose a goal to add a reminder to: \")) - 1\n",
    "            quote = input(\"Enter the reminder or motivational quote: \")\n",
    "            goals[index].add_quote(quote)\n",
    "        elif choice == '6':\n",
    "            # Save goals to file before exiting\n",
    "            save_goals(goals)\n",
    "            print(\"Goals saved! Exiting the program.\")\n",
    "            break\n",
    "        else:\n",
    "            print(\"Invalid choice, please try again.\")\n",
    "\n",
    "if __name__ == \"__main__\":\n",
    "    main()\n",
    "\n"
   ]
  },
  {
   "cell_type": "code",
   "execution_count": null,
   "id": "8422e7b4-014a-47b0-ac47-553bf4ea3f84",
   "metadata": {},
   "outputs": [],
   "source": []
  }
 ],
 "metadata": {
  "kernelspec": {
   "display_name": "Python 3 (ipykernel)",
   "language": "python",
   "name": "python3"
  },
  "language_info": {
   "codemirror_mode": {
    "name": "ipython",
    "version": 3
   },
   "file_extension": ".py",
   "mimetype": "text/x-python",
   "name": "python",
   "nbconvert_exporter": "python",
   "pygments_lexer": "ipython3",
   "version": "3.12.4"
  }
 },
 "nbformat": 4,
 "nbformat_minor": 5
}
